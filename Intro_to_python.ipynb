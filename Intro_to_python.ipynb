{
  "nbformat": 4,
  "nbformat_minor": 0,
  "metadata": {
    "colab": {
      "provenance": [],
      "authorship_tag": "ABX9TyNSUpF7cbJNjUB6uzzG4m02",
      "include_colab_link": true
    },
    "kernelspec": {
      "name": "python3",
      "display_name": "Python 3"
    },
    "language_info": {
      "name": "python"
    }
  },
  "cells": [
    {
      "cell_type": "markdown",
      "metadata": {
        "id": "view-in-github",
        "colab_type": "text"
      },
      "source": [
        "<a href=\"https://colab.research.google.com/github/AlainDelp/Tech-Talent-Pipeline-Residency/blob/main/Intro_to_python.ipynb\" target=\"_parent\"><img src=\"https://colab.research.google.com/assets/colab-badge.svg\" alt=\"Open In Colab\"/></a>"
      ]
    },
    {
      "cell_type": "markdown",
      "source": [
        "# python basics "
      ],
      "metadata": {
        "id": "TqNPCho1HtF7"
      }
    },
    {
      "cell_type": "markdown",
      "source": [
        "## strings & the print() "
      ],
      "metadata": {
        "id": "5CVTqbrlIjwe"
      }
    },
    {
      "cell_type": "code",
      "source": [
        "print(\"Hi how are you\")"
      ],
      "metadata": {
        "colab": {
          "base_uri": "https://localhost:8080/"
        },
        "id": "pLYCLOcuIjnK",
        "outputId": "83718e82-e623-4056-bc7b-0fcfd70e5c19"
      },
      "execution_count": null,
      "outputs": [
        {
          "output_type": "stream",
          "name": "stdout",
          "text": [
            "Hi how are you\n"
          ]
        }
      ]
    },
    {
      "cell_type": "code",
      "source": [
        "print(\"There are two types of slashes: \\\\ and /\")"
      ],
      "metadata": {
        "colab": {
          "base_uri": "https://localhost:8080/"
        },
        "id": "RpFmAt--IjKc",
        "outputId": "a1fc110c-5e1e-4ef0-c6d2-7df15f5a92a8"
      },
      "execution_count": null,
      "outputs": [
        {
          "output_type": "stream",
          "name": "stdout",
          "text": [
            "There are two types of slashes: \\ and /\n"
          ]
        }
      ]
    },
    {
      "cell_type": "code",
      "source": [
        "print(\"\"\" This is a tabbed line \n",
        "This is a regular line\"\"\")"
      ],
      "metadata": {
        "colab": {
          "base_uri": "https://localhost:8080/"
        },
        "id": "Lwm0TQqcIjH2",
        "outputId": "d3966264-02b5-4f3d-b373-117db69dbe72"
      },
      "execution_count": null,
      "outputs": [
        {
          "output_type": "stream",
          "name": "stdout",
          "text": [
            " This is a tabbed line \n",
            "This is a regular line\n"
          ]
        }
      ]
    },
    {
      "cell_type": "code",
      "source": [
        "print(\"Alain\"+\" Delphonse\")"
      ],
      "metadata": {
        "colab": {
          "base_uri": "https://localhost:8080/"
        },
        "id": "fPWRA1cqIjFO",
        "outputId": "ead4027e-37ba-4c26-91f6-bc427b371ce5"
      },
      "execution_count": null,
      "outputs": [
        {
          "output_type": "stream",
          "name": "stdout",
          "text": [
            "Alain Delphonse\n"
          ]
        }
      ]
    },
    {
      "cell_type": "markdown",
      "source": [
        "Variables"
      ],
      "metadata": {
        "id": "PgqNZgZnIjCW"
      }
    },
    {
      "cell_type": "code",
      "source": [
        "dogs = 3 \n",
        "cats= \"many fluffy cats\""
      ],
      "metadata": {
        "id": "K9yRQ6XeIi_h"
      },
      "execution_count": null,
      "outputs": []
    },
    {
      "cell_type": "code",
      "source": [
        "type(dogs)"
      ],
      "metadata": {
        "colab": {
          "base_uri": "https://localhost:8080/"
        },
        "id": "jLkv_VFoIi3u",
        "outputId": "1a6353ff-586c-4bd2-ffec-c1b6a27ab4aa"
      },
      "execution_count": null,
      "outputs": [
        {
          "output_type": "execute_result",
          "data": {
            "text/plain": [
              "int"
            ]
          },
          "metadata": {},
          "execution_count": 8
        }
      ]
    },
    {
      "cell_type": "code",
      "source": [
        "type(cats)"
      ],
      "metadata": {
        "colab": {
          "base_uri": "https://localhost:8080/"
        },
        "id": "U1YgyGQQIioU",
        "outputId": "5a1751db-f252-4d7b-9d5c-c1423436832e"
      },
      "execution_count": null,
      "outputs": [
        {
          "output_type": "execute_result",
          "data": {
            "text/plain": [
              "str"
            ]
          },
          "metadata": {},
          "execution_count": 9
        }
      ]
    },
    {
      "cell_type": "code",
      "source": [
        "print(dogs)"
      ],
      "metadata": {
        "colab": {
          "base_uri": "https://localhost:8080/"
        },
        "id": "ARydq4SkIikN",
        "outputId": "27bb3c51-225d-41e7-9e18-9a65244c7fee"
      },
      "execution_count": null,
      "outputs": [
        {
          "output_type": "stream",
          "name": "stdout",
          "text": [
            "3\n"
          ]
        }
      ]
    },
    {
      "cell_type": "code",
      "source": [
        "print(cats)"
      ],
      "metadata": {
        "colab": {
          "base_uri": "https://localhost:8080/"
        },
        "id": "w_MXfSYHIife",
        "outputId": "72a95b87-bf82-4e37-b603-e199b71caaee"
      },
      "execution_count": null,
      "outputs": [
        {
          "output_type": "stream",
          "name": "stdout",
          "text": [
            "many fluffy cats\n"
          ]
        }
      ]
    },
    {
      "cell_type": "code",
      "source": [
        "hi = \"Hello\"\n",
        "name = \" Alain\"\n",
        "print(hi + name)"
      ],
      "metadata": {
        "colab": {
          "base_uri": "https://localhost:8080/"
        },
        "id": "NFBc5-FLMeGR",
        "outputId": "c4bf4350-e213-4c6e-b9ee-35d31dbec35d"
      },
      "execution_count": null,
      "outputs": [
        {
          "output_type": "stream",
          "name": "stdout",
          "text": [
            "Hello Alain\n"
          ]
        }
      ]
    },
    {
      "cell_type": "code",
      "source": [
        "more_dogs = 5\n",
        "print(dogs + more_dogs)"
      ],
      "metadata": {
        "colab": {
          "base_uri": "https://localhost:8080/"
        },
        "id": "iv4ZsKuaMeDt",
        "outputId": "cfc17037-757c-4f06-d6fd-dcab2d47b9b1"
      },
      "execution_count": null,
      "outputs": [
        {
          "output_type": "stream",
          "name": "stdout",
          "text": [
            "8\n"
          ]
        }
      ]
    },
    {
      "cell_type": "code",
      "source": [
        "price = 19.99 \n",
        "amount= 4\n"
      ],
      "metadata": {
        "id": "fpo7zCigMeBE"
      },
      "execution_count": null,
      "outputs": []
    },
    {
      "cell_type": "code",
      "source": [
        "print(price * amount)"
      ],
      "metadata": {
        "colab": {
          "base_uri": "https://localhost:8080/"
        },
        "id": "oulKw680Md-L",
        "outputId": "45cd2bcf-4f03-4383-9a3c-b4d02d41662c"
      },
      "execution_count": null,
      "outputs": [
        {
          "output_type": "stream",
          "name": "stdout",
          "text": [
            "79.96\n"
          ]
        }
      ]
    },
    {
      "cell_type": "code",
      "source": [
        "dogs =\"New Values\""
      ],
      "metadata": {
        "id": "9maaLLm_Md7l"
      },
      "execution_count": null,
      "outputs": []
    },
    {
      "cell_type": "code",
      "source": [
        "print(dogs)"
      ],
      "metadata": {
        "colab": {
          "base_uri": "https://localhost:8080/"
        },
        "id": "zd-MgQzKMd4u",
        "outputId": "d90ec649-4f08-4af0-dbb6-74ef673d1f55"
      },
      "execution_count": null,
      "outputs": [
        {
          "output_type": "stream",
          "name": "stdout",
          "text": [
            "New Values\n"
          ]
        }
      ]
    },
    {
      "cell_type": "code",
      "source": [
        "cats, dogs, rabbits = 2,5,\"cute\""
      ],
      "metadata": {
        "id": "wtO0D3sXMd2I"
      },
      "execution_count": null,
      "outputs": []
    },
    {
      "cell_type": "code",
      "source": [
        "print(cats+dogs)"
      ],
      "metadata": {
        "colab": {
          "base_uri": "https://localhost:8080/"
        },
        "id": "roGDidfHMdzg",
        "outputId": "c2868885-4b5d-4e81-aa2c-b824f331e9ff"
      },
      "execution_count": null,
      "outputs": [
        {
          "output_type": "stream",
          "name": "stdout",
          "text": [
            "7\n"
          ]
        }
      ]
    },
    {
      "cell_type": "markdown",
      "source": [
        "MORE Strings "
      ],
      "metadata": {
        "id": "Q43xNNg8Mdw6"
      }
    },
    {
      "cell_type": "code",
      "source": [
        "greating = \"hello everyone\""
      ],
      "metadata": {
        "id": "Z0xOqZtEMdut"
      },
      "execution_count": null,
      "outputs": []
    },
    {
      "cell_type": "code",
      "source": [
        "greating"
      ],
      "metadata": {
        "colab": {
          "base_uri": "https://localhost:8080/",
          "height": 37
        },
        "id": "jbAQFar3Mdr9",
        "outputId": "d14c3b01-0486-4528-9312-3861a36519eb"
      },
      "execution_count": null,
      "outputs": [
        {
          "output_type": "execute_result",
          "data": {
            "text/plain": [
              "'hello everyone'"
            ],
            "application/vnd.google.colaboratory.intrinsic+json": {
              "type": "string"
            }
          },
          "metadata": {},
          "execution_count": 24
        }
      ]
    },
    {
      "cell_type": "code",
      "source": [
        "print(greating[4])"
      ],
      "metadata": {
        "colab": {
          "base_uri": "https://localhost:8080/"
        },
        "id": "4MY3PzkZMdpW",
        "outputId": "70a563af-8746-402e-b112-865f29ff6433"
      },
      "execution_count": null,
      "outputs": [
        {
          "output_type": "stream",
          "name": "stdout",
          "text": [
            "o\n"
          ]
        }
      ]
    },
    {
      "cell_type": "code",
      "source": [
        "cool= \"I love to go to the park with my freinds and my favorite activty is to play basekt ball \"\n"
      ],
      "metadata": {
        "id": "QHgDFhMkMdmv"
      },
      "execution_count": null,
      "outputs": []
    },
    {
      "cell_type": "code",
      "source": [
        "print(cool[18])"
      ],
      "metadata": {
        "colab": {
          "base_uri": "https://localhost:8080/"
        },
        "id": "M45HIvjUMdkJ",
        "outputId": "283064d1-d14b-427d-bbbe-51400040e34d"
      },
      "execution_count": null,
      "outputs": [
        {
          "output_type": "stream",
          "name": "stdout",
          "text": [
            "e\n"
          ]
        }
      ]
    },
    {
      "cell_type": "code",
      "source": [
        "len(cool)"
      ],
      "metadata": {
        "colab": {
          "base_uri": "https://localhost:8080/"
        },
        "id": "yrVGion1Mdhk",
        "outputId": "d7345a3f-1db0-4857-a024-da6c8201545a"
      },
      "execution_count": null,
      "outputs": [
        {
          "output_type": "execute_result",
          "data": {
            "text/plain": [
              "24"
            ]
          },
          "metadata": {},
          "execution_count": 29
        }
      ]
    },
    {
      "cell_type": "code",
      "source": [
        "cool[23]"
      ],
      "metadata": {
        "colab": {
          "base_uri": "https://localhost:8080/",
          "height": 37
        },
        "id": "7vsnbbH8Mder",
        "outputId": "2251bc70-f126-4414-e241-14bd2084b51a"
      },
      "execution_count": null,
      "outputs": [
        {
          "output_type": "execute_result",
          "data": {
            "text/plain": [
              "'k'"
            ],
            "application/vnd.google.colaboratory.intrinsic+json": {
              "type": "string"
            }
          },
          "metadata": {},
          "execution_count": 30
        }
      ]
    },
    {
      "cell_type": "code",
      "source": [
        "cool[-1]"
      ],
      "metadata": {
        "colab": {
          "base_uri": "https://localhost:8080/",
          "height": 37
        },
        "id": "8mwjsZC2Mdbz",
        "outputId": "4389dd2a-cc9f-4474-c593-6686ca1c5c15"
      },
      "execution_count": null,
      "outputs": [
        {
          "output_type": "execute_result",
          "data": {
            "text/plain": [
              "'k'"
            ],
            "application/vnd.google.colaboratory.intrinsic+json": {
              "type": "string"
            }
          },
          "metadata": {},
          "execution_count": 31
        }
      ]
    },
    {
      "cell_type": "markdown",
      "source": [
        "#String Formating"
      ],
      "metadata": {
        "id": "mgzxnuSXMdY7"
      }
    },
    {
      "cell_type": "code",
      "source": [
        "price = 59.99\n"
      ],
      "metadata": {
        "id": "U_wFvoa2Pt_M"
      },
      "execution_count": null,
      "outputs": []
    },
    {
      "cell_type": "code",
      "source": [
        "message =\"The product cost \" + str(price) + \" dollars\"\n"
      ],
      "metadata": {
        "id": "u3jC8iMaPt8u"
      },
      "execution_count": null,
      "outputs": []
    },
    {
      "cell_type": "code",
      "source": [
        "message"
      ],
      "metadata": {
        "colab": {
          "base_uri": "https://localhost:8080/",
          "height": 37
        },
        "id": "hhhKCQ49Pt6Y",
        "outputId": "40ee00e9-a346-40c8-aac6-2cab05317166"
      },
      "execution_count": null,
      "outputs": [
        {
          "output_type": "execute_result",
          "data": {
            "text/plain": [
              "'The product cost 59.99  dollars'"
            ],
            "application/vnd.google.colaboratory.intrinsic+json": {
              "type": "string"
            }
          },
          "metadata": {},
          "execution_count": 41
        }
      ]
    },
    {
      "cell_type": "markdown",
      "source": [
        "# The .Fomart() methed!"
      ],
      "metadata": {
        "id": "zhJ04altRV53"
      }
    },
    {
      "cell_type": "code",
      "source": [
        "msg= \"The productcose {} dollars \".format(price)  "
      ],
      "metadata": {
        "id": "m-46siYJPt3w"
      },
      "execution_count": null,
      "outputs": []
    },
    {
      "cell_type": "code",
      "source": [
        "msg"
      ],
      "metadata": {
        "colab": {
          "base_uri": "https://localhost:8080/",
          "height": 37
        },
        "id": "CNRKvKsOPt1i",
        "outputId": "e473b402-972c-44fb-e600-c3c39245d392"
      },
      "execution_count": null,
      "outputs": [
        {
          "output_type": "execute_result",
          "data": {
            "text/plain": [
              "'The productcose 59.99 dollars '"
            ],
            "application/vnd.google.colaboratory.intrinsic+json": {
              "type": "string"
            }
          },
          "metadata": {},
          "execution_count": 43
        }
      ]
    },
    {
      "cell_type": "code",
      "source": [
        "amount = 3\n",
        "total = amount * price\n"
      ],
      "metadata": {
        "id": "VFVj99tjPtzP"
      },
      "execution_count": null,
      "outputs": []
    },
    {
      "cell_type": "code",
      "source": [
        "ms2 = \"For {2} products at the price of {0}, the total will be: {1}\""
      ],
      "metadata": {
        "id": "iH7aTrSZPtwv"
      },
      "execution_count": null,
      "outputs": []
    },
    {
      "cell_type": "code",
      "source": [
        "print(ms2.format(amount , price, total))"
      ],
      "metadata": {
        "colab": {
          "base_uri": "https://localhost:8080/"
        },
        "id": "u8w9RPPAPtuy",
        "outputId": "d6d9575a-4038-4e63-bdb3-269942aa37a5"
      },
      "execution_count": null,
      "outputs": [
        {
          "output_type": "stream",
          "name": "stdout",
          "text": [
            "For 179.97 products at the price of 3, the total will be: 59.99\n"
          ]
        }
      ]
    },
    {
      "cell_type": "markdown",
      "source": [
        "##### The F-string method"
      ],
      "metadata": {
        "id": "8m6oFhCUPtsT"
      }
    },
    {
      "cell_type": "code",
      "source": [
        "price = 19.99\n",
        "items = 3\n",
        "  "
      ],
      "metadata": {
        "id": "Ue8JbEcxPtp9"
      },
      "execution_count": null,
      "outputs": []
    },
    {
      "cell_type": "code",
      "source": [
        "msg = f\"This indiviual product is {price*items}\""
      ],
      "metadata": {
        "id": "BKR3NP02Ptno"
      },
      "execution_count": null,
      "outputs": []
    },
    {
      "cell_type": "code",
      "source": [
        "msg"
      ],
      "metadata": {
        "colab": {
          "base_uri": "https://localhost:8080/",
          "height": 37
        },
        "id": "XWICJI6TPtlS",
        "outputId": "89c1cfba-1f21-4f8e-a1c9-a68ad8d4d171"
      },
      "execution_count": null,
      "outputs": [
        {
          "output_type": "execute_result",
          "data": {
            "text/plain": [
              "'This indiviual product is 59.97'"
            ],
            "application/vnd.google.colaboratory.intrinsic+json": {
              "type": "string"
            }
          },
          "metadata": {},
          "execution_count": 56
        }
      ]
    },
    {
      "cell_type": "code",
      "source": [],
      "metadata": {
        "id": "DHYkwN9JPtgf"
      },
      "execution_count": null,
      "outputs": []
    },
    {
      "cell_type": "code",
      "source": [],
      "metadata": {
        "id": "WtCS1u4EPtHF"
      },
      "execution_count": null,
      "outputs": []
    },
    {
      "cell_type": "code",
      "source": [],
      "metadata": {
        "id": "O9OIhc_bMdTe"
      },
      "execution_count": null,
      "outputs": []
    },
    {
      "cell_type": "code",
      "source": [],
      "metadata": {
        "id": "n7x5LwjRMdRK"
      },
      "execution_count": null,
      "outputs": []
    },
    {
      "cell_type": "code",
      "source": [],
      "metadata": {
        "id": "qeKv3RZgMdOi"
      },
      "execution_count": null,
      "outputs": []
    },
    {
      "cell_type": "code",
      "source": [],
      "metadata": {
        "id": "CUfGJfGtMdMN"
      },
      "execution_count": null,
      "outputs": []
    },
    {
      "cell_type": "code",
      "source": [],
      "metadata": {
        "id": "F7SUA6gQMdJ1"
      },
      "execution_count": null,
      "outputs": []
    },
    {
      "cell_type": "code",
      "source": [],
      "metadata": {
        "id": "lxH4fIBLMdHS"
      },
      "execution_count": null,
      "outputs": []
    },
    {
      "cell_type": "code",
      "source": [],
      "metadata": {
        "id": "NGfiLrOfIiXI"
      },
      "execution_count": null,
      "outputs": []
    }
  ]
}